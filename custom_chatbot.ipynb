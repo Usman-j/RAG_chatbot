{
 "cells": [
  {
   "cell_type": "markdown",
   "id": "124e5672",
   "metadata": {},
   "source": [
    "# Custom Chatbot Project"
   ]
  },
  {
   "cell_type": "markdown",
   "id": "2a4a94b3",
   "metadata": {},
   "source": [
    "TODO: In this cell, write an explanation of which dataset you have chosen and why it is appropriate for this task"
   ]
  },
  {
   "cell_type": "markdown",
   "id": "a63d4c5f",
   "metadata": {},
   "source": [
    "## Data Wrangling\n",
    "\n",
    "TODO: In the cells below, load your chosen dataset into a `pandas` dataframe with a column named `\"text\"`. This column should contain all of your text data, separated into at least 20 rows."
   ]
  },
  {
   "cell_type": "code",
   "execution_count": 1,
   "id": "c69b83a1",
   "metadata": {},
   "outputs": [],
   "source": [
    "import requests\n",
    "\n",
    "# Get the Wikipedia page for \"2023\" since OpenAI's models stop in 2021\n",
    "params = {\n",
    "    \"action\": \"query\", \n",
    "    \"prop\": \"extracts\",\n",
    "    \"exlimit\": 1,\n",
    "    \"titles\": \"2023\",\n",
    "    \"explaintext\": 1,\n",
    "    \"formatversion\": 2,\n",
    "    \"format\": \"json\"\n",
    "}\n",
    "resp = requests.get(\"https://en.wikipedia.org/w/api.php\", params=params)\n",
    "response_dict = resp.json()"
   ]
  },
  {
   "cell_type": "code",
   "execution_count": 2,
   "id": "0a595980",
   "metadata": {},
   "outputs": [
    {
     "name": "stdout",
     "output_type": "stream",
     "text": [
      "                                                 text\n",
      "0   2023 (MMXXIII) was a common year starting on S...\n",
      "1   The year 2023 saw the decline in severity of t...\n",
      "2   The Russian invasion of Ukraine and Myanmar ci...\n",
      "3   A banking crisis resulted in the collapse of n...\n",
      "4   In the realm of technology, 2023 saw the conti...\n",
      "11  January 1 – Croatia adopts the euro and joins ...\n",
      "12  January 5 – The funeral of Pope Benedict XVI i...\n",
      "13                                          January 8\n",
      "14  The 2023 Beninese parliamentary election is he...\n",
      "15  Following the 2022 Brazilian general election ...\n",
      "16  January 9 – Juliaca massacre: At least 18 peop...\n",
      "17  January 10–17 – A cold snap in Afghanistan kil...\n",
      "18  January 15 – Yeti Airlines Flight 691 crashes ...\n",
      "19  January 16 – Tigray War: Amharan Special Force...\n",
      "20  January 17 – Nguyễn Xuân Phúc resigns as Presi...\n",
      "21  January 18 – A helicopter crash in Brovary nea...\n",
      "22  January 20 – The Parliament of Trinidad and To...\n",
      "23                                         January 21\n",
      "24  Burkina Faso requests French forces to withdra...\n",
      "25  Tigray War: Eritrean forces withdraw from Shir...\n"
     ]
    }
   ],
   "source": [
    "import pandas as pd\n",
    "df = pd.DataFrame()\n",
    "df[\"text\"] = response_dict[\"query\"][\"pages\"][0][\"extract\"].split(\"\\n\")\n",
    "# Clean up text to remove empty lines and headings\n",
    "df = df[(df[\"text\"].str.len() > 0) & (~df[\"text\"].str.startswith(\"==\"))]\n",
    "print(df[:20])"
   ]
  },
  {
   "cell_type": "code",
   "execution_count": 3,
   "id": "acb3a9fd",
   "metadata": {},
   "outputs": [
    {
     "name": "stdout",
     "output_type": "stream",
     "text": [
      "                                                 text\n",
      "0    – 2023 (MMXXIII) was a common year starting o...\n",
      "1   The year 2023 saw the decline in severity of t...\n",
      "2    – The Russian invasion of Ukraine and Myanmar...\n",
      "3    – A banking crisis resulted in the collapse o...\n",
      "4    – In the realm of technology, 2023 saw the co...\n",
      "11  January 1 – Croatia adopts the euro and joins ...\n",
      "12  January 5 – The funeral of Pope Benedict XVI i...\n",
      "14  January 8 – The 2023 Beninese parliamentary el...\n",
      "15  January 8 – Following the 2022 Brazilian gener...\n",
      "16  January 9 – Juliaca massacre: At least 18 peop...\n",
      "17  January 10–17 – A cold snap in Afghanistan kil...\n",
      "18  January 15 – Yeti Airlines Flight 691 crashes ...\n",
      "19  January 16 – Tigray War: Amharan Special Force...\n",
      "20  January 17 – Nguyễn Xuân Phúc resigns as Presi...\n",
      "21  January 18 – A helicopter crash in Brovary nea...\n",
      "22  January 20 – The Parliament of Trinidad and To...\n",
      "24  January 21 – Burkina Faso requests French forc...\n",
      "25  January 21 – Tigray War: Eritrean forces withd...\n",
      "26  January 25 – Chris Hipkins succeeds Jacinda Ar...\n",
      "27  January 27 – Widespread unrest erupts in Israe...\n"
     ]
    }
   ],
   "source": [
    "from dateutil.parser import parse\n",
    "# In some cases dates are used as headings instead of being part of the\n",
    "# text sample; adjust so dated text samples start with dates\n",
    "prefix = \"\"\n",
    "for (i, row) in df.iterrows():\n",
    "    # If the row already has \" - \", it already has the needed date prefix\n",
    "    if \" – \" not in row[\"text\"]:\n",
    "        try:\n",
    "            # If the row's text is a date, set it as the new prefix\n",
    "            parse(row[\"text\"])\n",
    "            prefix = row[\"text\"]\n",
    "        except:\n",
    "            # If the row's text isn't a date, add the prefix\n",
    "            row[\"text\"] = prefix + \" – \" + row[\"text\"]\n",
    "df = df[df[\"text\"].str.contains(\" – \")]\n",
    "print(df[:20])"
   ]
  },
  {
   "cell_type": "markdown",
   "id": "ae769871",
   "metadata": {},
   "source": [
    "## Custom Query Completion\n",
    "\n",
    "TODO: In the cells below, compose a custom query using your chosen dataset and retrieve results from an OpenAI `Completion` model. You may copy and paste any useful code from the course materials."
   ]
  },
  {
   "cell_type": "code",
   "execution_count": null,
   "id": "582f0656",
   "metadata": {},
   "outputs": [],
   "source": [
    "import openai\n",
    "from config import OpenAI_key\n",
    "openai.api_key = OpenAI_key\n",
    "EMBEDDING_MODEL_NAME = \"text-embedding-3-small\" #Increased performance over 2nd generation ada embedding model\n",
    "batch_size = 100\n",
    "embeddings = []\n",
    "for i in range(0, len(df), batch_size):\n",
    "    # Send text data to OpenAI model to get embeddings\n",
    "    response = openai.Embedding.create(\n",
    "        input=df.iloc[i:i+batch_size][\"text\"].tolist(),\n",
    "        engine=EMBEDDING_MODEL_NAME\n",
    "    )\n",
    "    \n",
    "    # Add embeddings to list\n",
    "    embeddings.extend([data[\"embedding\"] for data in response[\"data\"]])\n",
    "\n",
    "# Add embeddings list to dataframe\n",
    "df[\"embeddings\"] = embeddings\n",
    "df"
   ]
  },
  {
   "cell_type": "code",
   "execution_count": null,
   "id": "8b6e1f75",
   "metadata": {},
   "outputs": [],
   "source": []
  },
  {
   "cell_type": "code",
   "execution_count": null,
   "id": "13f2dcd7",
   "metadata": {},
   "outputs": [],
   "source": []
  },
  {
   "cell_type": "code",
   "execution_count": null,
   "id": "c403f543",
   "metadata": {},
   "outputs": [],
   "source": []
  },
  {
   "cell_type": "code",
   "execution_count": null,
   "id": "74280b92",
   "metadata": {},
   "outputs": [],
   "source": []
  },
  {
   "cell_type": "markdown",
   "id": "1783f146",
   "metadata": {},
   "source": [
    "## Custom Performance Demonstration\n",
    "\n",
    "TODO: In the cells below, demonstrate the performance of your custom query using at least 2 questions. For each question, show the answer from a basic `Completion` model query as well as the answer from your custom query."
   ]
  },
  {
   "cell_type": "markdown",
   "id": "4f11fdc0",
   "metadata": {},
   "source": [
    "### Question 1"
   ]
  },
  {
   "cell_type": "code",
   "execution_count": null,
   "id": "4901c850",
   "metadata": {},
   "outputs": [],
   "source": []
  },
  {
   "cell_type": "code",
   "execution_count": null,
   "id": "bd7a093b",
   "metadata": {},
   "outputs": [],
   "source": []
  },
  {
   "cell_type": "markdown",
   "id": "6e86e37c",
   "metadata": {},
   "source": [
    "### Question 2"
   ]
  },
  {
   "cell_type": "code",
   "execution_count": null,
   "id": "6f646989",
   "metadata": {},
   "outputs": [],
   "source": []
  },
  {
   "cell_type": "code",
   "execution_count": null,
   "id": "11c07a54",
   "metadata": {},
   "outputs": [],
   "source": []
  }
 ],
 "metadata": {
  "kernelspec": {
   "display_name": "Python 3 (ipykernel)",
   "language": "python",
   "name": "python3"
  },
  "language_info": {
   "codemirror_mode": {
    "name": "ipython",
    "version": 3
   },
   "file_extension": ".py",
   "mimetype": "text/x-python",
   "name": "python",
   "nbconvert_exporter": "python",
   "pygments_lexer": "ipython3",
   "version": "3.10.14"
  }
 },
 "nbformat": 4,
 "nbformat_minor": 5
}
